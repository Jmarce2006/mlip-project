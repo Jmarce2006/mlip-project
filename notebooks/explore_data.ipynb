{
 "cells": [
  {
   "cell_type": "markdown",
   "metadata": {},
   "source": [
    "## Load and Explore Data"
   ]
  },
  {
   "cell_type": "code",
   "execution_count": 13,
   "metadata": {},
   "outputs": [
    {
     "name": "stdout",
     "output_type": "stream",
     "text": [
      "Requirement already satisfied: matplotlib in /Users/marcelomartinez/GitHub/mlip-project/venv/lib/python3.9/site-packages (3.9.4)\n",
      "Requirement already satisfied: contourpy>=1.0.1 in /Users/marcelomartinez/GitHub/mlip-project/venv/lib/python3.9/site-packages (from matplotlib) (1.3.0)\n",
      "Requirement already satisfied: cycler>=0.10 in /Users/marcelomartinez/GitHub/mlip-project/venv/lib/python3.9/site-packages (from matplotlib) (0.12.1)\n",
      "Requirement already satisfied: pillow>=8 in /Users/marcelomartinez/GitHub/mlip-project/venv/lib/python3.9/site-packages (from matplotlib) (11.1.0)\n",
      "Requirement already satisfied: importlib-resources>=3.2.0 in /Users/marcelomartinez/GitHub/mlip-project/venv/lib/python3.9/site-packages (from matplotlib) (6.5.2)\n",
      "Requirement already satisfied: kiwisolver>=1.3.1 in /Users/marcelomartinez/GitHub/mlip-project/venv/lib/python3.9/site-packages (from matplotlib) (1.4.7)\n",
      "Requirement already satisfied: python-dateutil>=2.7 in /Users/marcelomartinez/GitHub/mlip-project/venv/lib/python3.9/site-packages (from matplotlib) (2.9.0.post0)\n",
      "Requirement already satisfied: packaging>=20.0 in /Users/marcelomartinez/GitHub/mlip-project/venv/lib/python3.9/site-packages (from matplotlib) (24.2)\n",
      "Requirement already satisfied: pyparsing>=2.3.1 in /Users/marcelomartinez/GitHub/mlip-project/venv/lib/python3.9/site-packages (from matplotlib) (3.2.3)\n",
      "Requirement already satisfied: fonttools>=4.22.0 in /Users/marcelomartinez/GitHub/mlip-project/venv/lib/python3.9/site-packages (from matplotlib) (4.56.0)\n",
      "Requirement already satisfied: numpy>=1.23 in /Users/marcelomartinez/GitHub/mlip-project/venv/lib/python3.9/site-packages (from matplotlib) (1.24.4)\n",
      "Requirement already satisfied: zipp>=3.1.0 in /Users/marcelomartinez/GitHub/mlip-project/venv/lib/python3.9/site-packages (from importlib-resources>=3.2.0->matplotlib) (3.21.0)\n",
      "Requirement already satisfied: six>=1.5 in /Users/marcelomartinez/GitHub/mlip-project/venv/lib/python3.9/site-packages (from python-dateutil>=2.7->matplotlib) (1.17.0)\n",
      "\u001b[33mWARNING: You are using pip version 21.2.4; however, version 25.0.1 is available.\n",
      "You should consider upgrading via the '/Users/marcelomartinez/GitHub/mlip-project/venv/bin/python -m pip install --upgrade pip' command.\u001b[0m\n",
      "Note: you may need to restart the kernel to use updated packages.\n",
      "Requirement already satisfied: seaborn in /Users/marcelomartinez/GitHub/mlip-project/venv/lib/python3.9/site-packages (0.13.2)\n",
      "Requirement already satisfied: pandas>=1.2 in /Users/marcelomartinez/GitHub/mlip-project/venv/lib/python3.9/site-packages (from seaborn) (2.2.3)\n",
      "Requirement already satisfied: matplotlib!=3.6.1,>=3.4 in /Users/marcelomartinez/GitHub/mlip-project/venv/lib/python3.9/site-packages (from seaborn) (3.9.4)\n",
      "Requirement already satisfied: numpy!=1.24.0,>=1.20 in /Users/marcelomartinez/GitHub/mlip-project/venv/lib/python3.9/site-packages (from seaborn) (1.24.4)\n",
      "Requirement already satisfied: pillow>=8 in /Users/marcelomartinez/GitHub/mlip-project/venv/lib/python3.9/site-packages (from matplotlib!=3.6.1,>=3.4->seaborn) (11.1.0)\n",
      "Requirement already satisfied: fonttools>=4.22.0 in /Users/marcelomartinez/GitHub/mlip-project/venv/lib/python3.9/site-packages (from matplotlib!=3.6.1,>=3.4->seaborn) (4.56.0)\n",
      "Requirement already satisfied: kiwisolver>=1.3.1 in /Users/marcelomartinez/GitHub/mlip-project/venv/lib/python3.9/site-packages (from matplotlib!=3.6.1,>=3.4->seaborn) (1.4.7)\n",
      "Requirement already satisfied: contourpy>=1.0.1 in /Users/marcelomartinez/GitHub/mlip-project/venv/lib/python3.9/site-packages (from matplotlib!=3.6.1,>=3.4->seaborn) (1.3.0)\n",
      "Requirement already satisfied: cycler>=0.10 in /Users/marcelomartinez/GitHub/mlip-project/venv/lib/python3.9/site-packages (from matplotlib!=3.6.1,>=3.4->seaborn) (0.12.1)\n",
      "Requirement already satisfied: pyparsing>=2.3.1 in /Users/marcelomartinez/GitHub/mlip-project/venv/lib/python3.9/site-packages (from matplotlib!=3.6.1,>=3.4->seaborn) (3.2.3)\n",
      "Requirement already satisfied: importlib-resources>=3.2.0 in /Users/marcelomartinez/GitHub/mlip-project/venv/lib/python3.9/site-packages (from matplotlib!=3.6.1,>=3.4->seaborn) (6.5.2)\n",
      "Requirement already satisfied: python-dateutil>=2.7 in /Users/marcelomartinez/GitHub/mlip-project/venv/lib/python3.9/site-packages (from matplotlib!=3.6.1,>=3.4->seaborn) (2.9.0.post0)\n",
      "Requirement already satisfied: packaging>=20.0 in /Users/marcelomartinez/GitHub/mlip-project/venv/lib/python3.9/site-packages (from matplotlib!=3.6.1,>=3.4->seaborn) (24.2)\n",
      "Requirement already satisfied: zipp>=3.1.0 in /Users/marcelomartinez/GitHub/mlip-project/venv/lib/python3.9/site-packages (from importlib-resources>=3.2.0->matplotlib!=3.6.1,>=3.4->seaborn) (3.21.0)\n",
      "Requirement already satisfied: tzdata>=2022.7 in /Users/marcelomartinez/GitHub/mlip-project/venv/lib/python3.9/site-packages (from pandas>=1.2->seaborn) (2025.2)\n",
      "Requirement already satisfied: pytz>=2020.1 in /Users/marcelomartinez/GitHub/mlip-project/venv/lib/python3.9/site-packages (from pandas>=1.2->seaborn) (2025.2)\n",
      "Requirement already satisfied: six>=1.5 in /Users/marcelomartinez/GitHub/mlip-project/venv/lib/python3.9/site-packages (from python-dateutil>=2.7->matplotlib!=3.6.1,>=3.4->seaborn) (1.17.0)\n",
      "\u001b[33mWARNING: You are using pip version 21.2.4; however, version 25.0.1 is available.\n",
      "You should consider upgrading via the '/Users/marcelomartinez/GitHub/mlip-project/venv/bin/python -m pip install --upgrade pip' command.\u001b[0m\n",
      "Note: you may need to restart the kernel to use updated packages.\n"
     ]
    }
   ],
   "source": [
    "%pip install matplotlib\n",
    "%pip install seaborn"
   ]
  },
  {
   "cell_type": "code",
   "execution_count": 14,
   "metadata": {},
   "outputs": [],
   "source": [
    "import pandas as pd\n",
    "import matplotlib.pyplot as plt\n",
    "import seaborn as sns"
   ]
  },
  {
   "cell_type": "code",
   "execution_count": 15,
   "metadata": {},
   "outputs": [],
   "source": [
    "ratings = pd.read_csv(\"../data/raw/ml-100k/u.data\", sep=\"\\t\", header=None,names=[\"user_id\", \"movie_id\", \"rating\", \"timestamp\"])"
   ]
  },
  {
   "cell_type": "code",
   "execution_count": 16,
   "metadata": {},
   "outputs": [],
   "source": [
    "movies = pd.read_csv(\"../data/raw/ml-100k/u.item\", sep=\"|\", header=None, encoding='latin-1',\n",
    "                     names=[\"movie_id\", \"title\", \"release_date\", \"video_release_date\",\n",
    "                            \"IMDb_URL\", \"unknown\", \"Action\", \"Adventure\", \"Animation\",\n",
    "                            \"Children's\", \"Comedy\", \"Crime\", \"Documentary\", \"Drama\", \"Fantasy\",\n",
    "                            \"Film-Noir\", \"Horror\", \"Musical\", \"Mystery\", \"Romance\", \"Sci-Fi\",\n",
    "                            \"Thriller\", \"War\", \"Western\"])"
   ]
  },
  {
   "cell_type": "code",
   "execution_count": 17,
   "metadata": {},
   "outputs": [
    {
     "data": {
      "application/vnd.microsoft.datawrangler.viewer.v0+json": {
       "columns": [
        {
         "name": "index",
         "rawType": "int64",
         "type": "integer"
        },
        {
         "name": "user_id",
         "rawType": "int64",
         "type": "integer"
        },
        {
         "name": "movie_id",
         "rawType": "int64",
         "type": "integer"
        },
        {
         "name": "rating",
         "rawType": "int64",
         "type": "integer"
        },
        {
         "name": "timestamp",
         "rawType": "int64",
         "type": "integer"
        }
       ],
       "conversionMethod": "pd.DataFrame",
       "ref": "95e4a0ef-c8d7-4ded-910b-5eda7a970345",
       "rows": [
        [
         "0",
         "196",
         "242",
         "3",
         "881250949"
        ],
        [
         "1",
         "186",
         "302",
         "3",
         "891717742"
        ],
        [
         "2",
         "22",
         "377",
         "1",
         "878887116"
        ],
        [
         "3",
         "244",
         "51",
         "2",
         "880606923"
        ],
        [
         "4",
         "166",
         "346",
         "1",
         "886397596"
        ]
       ],
       "shape": {
        "columns": 4,
        "rows": 5
       }
      },
      "text/html": [
       "<div>\n",
       "<style scoped>\n",
       "    .dataframe tbody tr th:only-of-type {\n",
       "        vertical-align: middle;\n",
       "    }\n",
       "\n",
       "    .dataframe tbody tr th {\n",
       "        vertical-align: top;\n",
       "    }\n",
       "\n",
       "    .dataframe thead th {\n",
       "        text-align: right;\n",
       "    }\n",
       "</style>\n",
       "<table border=\"1\" class=\"dataframe\">\n",
       "  <thead>\n",
       "    <tr style=\"text-align: right;\">\n",
       "      <th></th>\n",
       "      <th>user_id</th>\n",
       "      <th>movie_id</th>\n",
       "      <th>rating</th>\n",
       "      <th>timestamp</th>\n",
       "    </tr>\n",
       "  </thead>\n",
       "  <tbody>\n",
       "    <tr>\n",
       "      <th>0</th>\n",
       "      <td>196</td>\n",
       "      <td>242</td>\n",
       "      <td>3</td>\n",
       "      <td>881250949</td>\n",
       "    </tr>\n",
       "    <tr>\n",
       "      <th>1</th>\n",
       "      <td>186</td>\n",
       "      <td>302</td>\n",
       "      <td>3</td>\n",
       "      <td>891717742</td>\n",
       "    </tr>\n",
       "    <tr>\n",
       "      <th>2</th>\n",
       "      <td>22</td>\n",
       "      <td>377</td>\n",
       "      <td>1</td>\n",
       "      <td>878887116</td>\n",
       "    </tr>\n",
       "    <tr>\n",
       "      <th>3</th>\n",
       "      <td>244</td>\n",
       "      <td>51</td>\n",
       "      <td>2</td>\n",
       "      <td>880606923</td>\n",
       "    </tr>\n",
       "    <tr>\n",
       "      <th>4</th>\n",
       "      <td>166</td>\n",
       "      <td>346</td>\n",
       "      <td>1</td>\n",
       "      <td>886397596</td>\n",
       "    </tr>\n",
       "  </tbody>\n",
       "</table>\n",
       "</div>"
      ],
      "text/plain": [
       "   user_id  movie_id  rating  timestamp\n",
       "0      196       242       3  881250949\n",
       "1      186       302       3  891717742\n",
       "2       22       377       1  878887116\n",
       "3      244        51       2  880606923\n",
       "4      166       346       1  886397596"
      ]
     },
     "execution_count": 17,
     "metadata": {},
     "output_type": "execute_result"
    }
   ],
   "source": [
    "ratings.head()"
   ]
  },
  {
   "cell_type": "code",
   "execution_count": 18,
   "metadata": {},
   "outputs": [
    {
     "name": "stdout",
     "output_type": "stream",
     "text": [
      "Number of ratings: 100000\n",
      "Number of unique users: 943\n",
      "Number of unique movies: 1682\n"
     ]
    },
    {
     "data": {
      "application/vnd.microsoft.datawrangler.viewer.v0+json": {
       "columns": [
        {
         "name": "index",
         "rawType": "object",
         "type": "string"
        },
        {
         "name": "user_id",
         "rawType": "float64",
         "type": "float"
        },
        {
         "name": "movie_id",
         "rawType": "float64",
         "type": "float"
        },
        {
         "name": "rating",
         "rawType": "float64",
         "type": "float"
        },
        {
         "name": "timestamp",
         "rawType": "float64",
         "type": "float"
        }
       ],
       "conversionMethod": "pd.DataFrame",
       "ref": "c22f17d3-7a15-4dfa-8558-5c47a97bdec2",
       "rows": [
        [
         "count",
         "100000.0",
         "100000.0",
         "100000.0",
         "100000.0"
        ],
        [
         "mean",
         "462.48475",
         "425.53013",
         "3.52986",
         "883528851.48862"
        ],
        [
         "std",
         "266.61442012750865",
         "330.7983563255848",
         "1.125673599144316",
         "5343856.189502804"
        ],
        [
         "min",
         "1.0",
         "1.0",
         "1.0",
         "874724710.0"
        ],
        [
         "25%",
         "254.0",
         "175.0",
         "3.0",
         "879448709.5"
        ],
        [
         "50%",
         "447.0",
         "322.0",
         "4.0",
         "882826944.0"
        ],
        [
         "75%",
         "682.0",
         "631.0",
         "4.0",
         "888259984.0"
        ],
        [
         "max",
         "943.0",
         "1682.0",
         "5.0",
         "893286638.0"
        ]
       ],
       "shape": {
        "columns": 4,
        "rows": 8
       }
      },
      "text/html": [
       "<div>\n",
       "<style scoped>\n",
       "    .dataframe tbody tr th:only-of-type {\n",
       "        vertical-align: middle;\n",
       "    }\n",
       "\n",
       "    .dataframe tbody tr th {\n",
       "        vertical-align: top;\n",
       "    }\n",
       "\n",
       "    .dataframe thead th {\n",
       "        text-align: right;\n",
       "    }\n",
       "</style>\n",
       "<table border=\"1\" class=\"dataframe\">\n",
       "  <thead>\n",
       "    <tr style=\"text-align: right;\">\n",
       "      <th></th>\n",
       "      <th>user_id</th>\n",
       "      <th>movie_id</th>\n",
       "      <th>rating</th>\n",
       "      <th>timestamp</th>\n",
       "    </tr>\n",
       "  </thead>\n",
       "  <tbody>\n",
       "    <tr>\n",
       "      <th>count</th>\n",
       "      <td>100000.00000</td>\n",
       "      <td>100000.000000</td>\n",
       "      <td>100000.000000</td>\n",
       "      <td>1.000000e+05</td>\n",
       "    </tr>\n",
       "    <tr>\n",
       "      <th>mean</th>\n",
       "      <td>462.48475</td>\n",
       "      <td>425.530130</td>\n",
       "      <td>3.529860</td>\n",
       "      <td>8.835289e+08</td>\n",
       "    </tr>\n",
       "    <tr>\n",
       "      <th>std</th>\n",
       "      <td>266.61442</td>\n",
       "      <td>330.798356</td>\n",
       "      <td>1.125674</td>\n",
       "      <td>5.343856e+06</td>\n",
       "    </tr>\n",
       "    <tr>\n",
       "      <th>min</th>\n",
       "      <td>1.00000</td>\n",
       "      <td>1.000000</td>\n",
       "      <td>1.000000</td>\n",
       "      <td>8.747247e+08</td>\n",
       "    </tr>\n",
       "    <tr>\n",
       "      <th>25%</th>\n",
       "      <td>254.00000</td>\n",
       "      <td>175.000000</td>\n",
       "      <td>3.000000</td>\n",
       "      <td>8.794487e+08</td>\n",
       "    </tr>\n",
       "    <tr>\n",
       "      <th>50%</th>\n",
       "      <td>447.00000</td>\n",
       "      <td>322.000000</td>\n",
       "      <td>4.000000</td>\n",
       "      <td>8.828269e+08</td>\n",
       "    </tr>\n",
       "    <tr>\n",
       "      <th>75%</th>\n",
       "      <td>682.00000</td>\n",
       "      <td>631.000000</td>\n",
       "      <td>4.000000</td>\n",
       "      <td>8.882600e+08</td>\n",
       "    </tr>\n",
       "    <tr>\n",
       "      <th>max</th>\n",
       "      <td>943.00000</td>\n",
       "      <td>1682.000000</td>\n",
       "      <td>5.000000</td>\n",
       "      <td>8.932866e+08</td>\n",
       "    </tr>\n",
       "  </tbody>\n",
       "</table>\n",
       "</div>"
      ],
      "text/plain": [
       "            user_id       movie_id         rating     timestamp\n",
       "count  100000.00000  100000.000000  100000.000000  1.000000e+05\n",
       "mean      462.48475     425.530130       3.529860  8.835289e+08\n",
       "std       266.61442     330.798356       1.125674  5.343856e+06\n",
       "min         1.00000       1.000000       1.000000  8.747247e+08\n",
       "25%       254.00000     175.000000       3.000000  8.794487e+08\n",
       "50%       447.00000     322.000000       4.000000  8.828269e+08\n",
       "75%       682.00000     631.000000       4.000000  8.882600e+08\n",
       "max       943.00000    1682.000000       5.000000  8.932866e+08"
      ]
     },
     "execution_count": 18,
     "metadata": {},
     "output_type": "execute_result"
    }
   ],
   "source": [
    "print(\"Number of ratings:\", len(ratings))\n",
    "print(\"Number of unique users:\", ratings['user_id'].nunique())\n",
    "print(\"Number of unique movies:\", ratings['movie_id'].nunique())\n",
    "ratings.describe()\n"
   ]
  },
  {
   "cell_type": "code",
   "execution_count": 19,
   "metadata": {},
   "outputs": [
    {
     "data": {
      "image/png": "[encoded data removed]",
      "text/plain": [
       "<Figure size 640x480 with 1 Axes>"
      ]
     },
     "metadata": {},
     "output_type": "display_data"
    }
   ],
   "source": [
    "sns.countplot(x='rating', data=ratings)\n",
    "plt.title(\"Distribution of Ratings\")\n",
    "plt.xlabel(\"Rating\")\n",
    "plt.ylabel(\"Count\")\n",
    "plt.show()\n"
   ]
  },
  {
   "cell_type": "code",
   "execution_count": 20,
   "metadata": {},
   "outputs": [
    {
     "data": {
      "image/png": "[encoded data removed]",
      "text/plain": [
       "<Figure size 800x400 with 1 Axes>"
      ]
     },
     "metadata": {},
     "output_type": "display_data"
    },
    {
     "name": "stdout",
     "output_type": "stream",
     "text": [
      "Avg. ratings per user: 106.04453870625663\n"
     ]
    }
   ],
   "source": [
    "ratings_per_user = ratings.groupby('user_id')['movie_id'].count()\n",
    "\n",
    "plt.figure(figsize=(8,4))\n",
    "sns.histplot(ratings_per_user, bins=30)\n",
    "plt.title(\"Number of Ratings per User\")\n",
    "plt.xlabel(\"Ratings\")\n",
    "plt.ylabel(\"Number of Users\")\n",
    "plt.show()\n",
    "\n",
    "print(\"Avg. ratings per user:\", ratings_per_user.mean())\n"
   ]
  },
  {
   "cell_type": "markdown",
   "metadata": {},
   "source": [
    "## Feature Engineer"
   ]
  },
  {
   "cell_type": "code",
   "execution_count": 21,
   "metadata": {},
   "outputs": [
    {
     "data": {
      "application/vnd.microsoft.datawrangler.viewer.v0+json": {
       "columns": [
        {
         "name": "index",
         "rawType": "int64",
         "type": "integer"
        },
        {
         "name": "user_id",
         "rawType": "int64",
         "type": "integer"
        },
        {
         "name": "user_num_ratings",
         "rawType": "int64",
         "type": "integer"
        },
        {
         "name": "user_avg_rating",
         "rawType": "float64",
         "type": "float"
        }
       ],
       "conversionMethod": "pd.DataFrame",
       "ref": "a9e58767-e291-44d1-a0d2-44087a651ba5",
       "rows": [
        [
         "0",
         "1",
         "272",
         "3.610294117647059"
        ],
        [
         "1",
         "2",
         "62",
         "3.7096774193548385"
        ],
        [
         "2",
         "3",
         "54",
         "2.7962962962962963"
        ],
        [
         "3",
         "4",
         "24",
         "4.333333333333333"
        ],
        [
         "4",
         "5",
         "175",
         "2.874285714285714"
        ]
       ],
       "shape": {
        "columns": 3,
        "rows": 5
       }
      },
      "text/html": [
       "<div>\n",
       "<style scoped>\n",
       "    .dataframe tbody tr th:only-of-type {\n",
       "        vertical-align: middle;\n",
       "    }\n",
       "\n",
       "    .dataframe tbody tr th {\n",
       "        vertical-align: top;\n",
       "    }\n",
       "\n",
       "    .dataframe thead th {\n",
       "        text-align: right;\n",
       "    }\n",
       "</style>\n",
       "<table border=\"1\" class=\"dataframe\">\n",
       "  <thead>\n",
       "    <tr style=\"text-align: right;\">\n",
       "      <th></th>\n",
       "      <th>user_id</th>\n",
       "      <th>user_num_ratings</th>\n",
       "      <th>user_avg_rating</th>\n",
       "    </tr>\n",
       "  </thead>\n",
       "  <tbody>\n",
       "    <tr>\n",
       "      <th>0</th>\n",
       "      <td>1</td>\n",
       "      <td>272</td>\n",
       "      <td>3.610294</td>\n",
       "    </tr>\n",
       "    <tr>\n",
       "      <th>1</th>\n",
       "      <td>2</td>\n",
       "      <td>62</td>\n",
       "      <td>3.709677</td>\n",
       "    </tr>\n",
       "    <tr>\n",
       "      <th>2</th>\n",
       "      <td>3</td>\n",
       "      <td>54</td>\n",
       "      <td>2.796296</td>\n",
       "    </tr>\n",
       "    <tr>\n",
       "      <th>3</th>\n",
       "      <td>4</td>\n",
       "      <td>24</td>\n",
       "      <td>4.333333</td>\n",
       "    </tr>\n",
       "    <tr>\n",
       "      <th>4</th>\n",
       "      <td>5</td>\n",
       "      <td>175</td>\n",
       "      <td>2.874286</td>\n",
       "    </tr>\n",
       "  </tbody>\n",
       "</table>\n",
       "</div>"
      ],
      "text/plain": [
       "   user_id  user_num_ratings  user_avg_rating\n",
       "0        1               272         3.610294\n",
       "1        2                62         3.709677\n",
       "2        3                54         2.796296\n",
       "3        4                24         4.333333\n",
       "4        5               175         2.874286"
      ]
     },
     "execution_count": 21,
     "metadata": {},
     "output_type": "execute_result"
    }
   ],
   "source": [
    "user_features = ratings.groupby('user_id').agg(\n",
    "    user_num_ratings=('movie_id', 'count'),\n",
    "    user_avg_rating=('rating', 'mean')\n",
    ").reset_index()\n",
    "\n",
    "user_features.head()\n"
   ]
  },
  {
   "cell_type": "code",
   "execution_count": 22,
   "metadata": {},
   "outputs": [
    {
     "data": {
      "application/vnd.microsoft.datawrangler.viewer.v0+json": {
       "columns": [
        {
         "name": "index",
         "rawType": "int64",
         "type": "integer"
        },
        {
         "name": "movie_id",
         "rawType": "int64",
         "type": "integer"
        },
        {
         "name": "movie_num_ratings",
         "rawType": "int64",
         "type": "integer"
        },
        {
         "name": "movie_avg_rating",
         "rawType": "float64",
         "type": "float"
        },
        {
         "name": "title",
         "rawType": "object",
         "type": "string"
        }
       ],
       "conversionMethod": "pd.DataFrame",
       "ref": "3f09e649-099a-4ab3-b0c8-56e3cb881269",
       "rows": [
        [
         "0",
         "1",
         "452",
         "3.8783185840707963",
         "Toy Story (1995)"
        ],
        [
         "1",
         "2",
         "131",
         "3.2061068702290076",
         "GoldenEye (1995)"
        ],
        [
         "2",
         "3",
         "90",
         "3.033333333333333",
         "Four Rooms (1995)"
        ],
        [
         "3",
         "4",
         "209",
         "3.550239234449761",
         "Get Shorty (1995)"
        ],
        [
         "4",
         "5",
         "86",
         "3.302325581395349",
         "Copycat (1995)"
        ]
       ],
       "shape": {
        "columns": 4,
        "rows": 5
       }
      },
      "text/html": [
       "<div>\n",
       "<style scoped>\n",
       "    .dataframe tbody tr th:only-of-type {\n",
       "        vertical-align: middle;\n",
       "    }\n",
       "\n",
       "    .dataframe tbody tr th {\n",
       "        vertical-align: top;\n",
       "    }\n",
       "\n",
       "    .dataframe thead th {\n",
       "        text-align: right;\n",
       "    }\n",
       "</style>\n",
       "<table border=\"1\" class=\"dataframe\">\n",
       "  <thead>\n",
       "    <tr style=\"text-align: right;\">\n",
       "      <th></th>\n",
       "      <th>movie_id</th>\n",
       "      <th>movie_num_ratings</th>\n",
       "      <th>movie_avg_rating</th>\n",
       "      <th>title</th>\n",
       "    </tr>\n",
       "  </thead>\n",
       "  <tbody>\n",
       "    <tr>\n",
       "      <th>0</th>\n",
       "      <td>1</td>\n",
       "      <td>452</td>\n",
       "      <td>3.878319</td>\n",
       "      <td>Toy Story (1995)</td>\n",
       "    </tr>\n",
       "    <tr>\n",
       "      <th>1</th>\n",
       "      <td>2</td>\n",
       "      <td>131</td>\n",
       "      <td>3.206107</td>\n",
       "      <td>GoldenEye (1995)</td>\n",
       "    </tr>\n",
       "    <tr>\n",
       "      <th>2</th>\n",
       "      <td>3</td>\n",
       "      <td>90</td>\n",
       "      <td>3.033333</td>\n",
       "      <td>Four Rooms (1995)</td>\n",
       "    </tr>\n",
       "    <tr>\n",
       "      <th>3</th>\n",
       "      <td>4</td>\n",
       "      <td>209</td>\n",
       "      <td>3.550239</td>\n",
       "      <td>Get Shorty (1995)</td>\n",
       "    </tr>\n",
       "    <tr>\n",
       "      <th>4</th>\n",
       "      <td>5</td>\n",
       "      <td>86</td>\n",
       "      <td>3.302326</td>\n",
       "      <td>Copycat (1995)</td>\n",
       "    </tr>\n",
       "  </tbody>\n",
       "</table>\n",
       "</div>"
      ],
      "text/plain": [
       "   movie_id  movie_num_ratings  movie_avg_rating              title\n",
       "0         1                452          3.878319   Toy Story (1995)\n",
       "1         2                131          3.206107   GoldenEye (1995)\n",
       "2         3                 90          3.033333  Four Rooms (1995)\n",
       "3         4                209          3.550239  Get Shorty (1995)\n",
       "4         5                 86          3.302326     Copycat (1995)"
      ]
     },
     "execution_count": 22,
     "metadata": {},
     "output_type": "execute_result"
    }
   ],
   "source": [
    "movie_features = ratings.groupby('movie_id').agg(\n",
    "    movie_num_ratings=('user_id', 'count'),\n",
    "    movie_avg_rating=('rating', 'mean')\n",
    ").reset_index()\n",
    "\n",
    "movie_features = pd.merge(movie_features, movies[['movie_id', 'title']], on='movie_id')\n",
    "movie_features.head()\n"
   ]
  },
  {
   "cell_type": "code",
   "execution_count": 23,
   "metadata": {},
   "outputs": [
    {
     "name": "stdout",
     "output_type": "stream",
     "text": [
      "Genres: ['unknown', 'Action', 'Adventure', 'Animation', \"Children's\", 'Comedy', 'Crime', 'Documentary', 'Drama', 'Fantasy', 'Film-Noir', 'Horror', 'Musical', 'Mystery', 'Romance', 'Sci-Fi', 'Thriller', 'War', 'Western']\n"
     ]
    },
    {
     "data": {
      "image/png": "[encoded data removed]",
      "text/plain": [
       "<Figure size 1000x400 with 1 Axes>"
      ]
     },
     "metadata": {},
     "output_type": "display_data"
    }
   ],
   "source": [
    "genre_columns = movies.columns[5:]\n",
    "\n",
    "# Just double-check how genres look\n",
    "print(\"Genres:\", genre_columns.tolist())\n",
    "\n",
    "# Count how many movies per genre\n",
    "movies[genre_columns].sum().sort_values(ascending=False).plot(kind='bar', figsize=(10,4))\n",
    "plt.title(\"Movies per Genre\")\n",
    "plt.ylabel(\"Number of Movies\")\n",
    "plt.show()\n"
   ]
  },
  {
   "cell_type": "code",
   "execution_count": 24,
   "metadata": {},
   "outputs": [
    {
     "data": {
      "application/vnd.microsoft.datawrangler.viewer.v0+json": {
       "columns": [
        {
         "name": "index",
         "rawType": "int64",
         "type": "integer"
        },
        {
         "name": "user_id",
         "rawType": "int64",
         "type": "integer"
        },
        {
         "name": "movie_id",
         "rawType": "int64",
         "type": "integer"
        },
        {
         "name": "rating",
         "rawType": "int64",
         "type": "integer"
        },
        {
         "name": "timestamp",
         "rawType": "int64",
         "type": "integer"
        },
        {
         "name": "user_num_ratings",
         "rawType": "int64",
         "type": "integer"
        },
        {
         "name": "user_avg_rating",
         "rawType": "float64",
         "type": "float"
        },
        {
         "name": "movie_num_ratings",
         "rawType": "int64",
         "type": "integer"
        },
        {
         "name": "movie_avg_rating",
         "rawType": "float64",
         "type": "float"
        },
        {
         "name": "unknown",
         "rawType": "int64",
         "type": "integer"
        },
        {
         "name": "Action",
         "rawType": "int64",
         "type": "integer"
        },
        {
         "name": "Adventure",
         "rawType": "int64",
         "type": "integer"
        },
        {
         "name": "Animation",
         "rawType": "int64",
         "type": "integer"
        },
        {
         "name": "Children's",
         "rawType": "int64",
         "type": "integer"
        },
        {
         "name": "Comedy",
         "rawType": "int64",
         "type": "integer"
        },
        {
         "name": "Crime",
         "rawType": "int64",
         "type": "integer"
        },
        {
         "name": "Documentary",
         "rawType": "int64",
         "type": "integer"
        },
        {
         "name": "Drama",
         "rawType": "int64",
         "type": "integer"
        },
        {
         "name": "Fantasy",
         "rawType": "int64",
         "type": "integer"
        },
        {
         "name": "Film-Noir",
         "rawType": "int64",
         "type": "integer"
        },
        {
         "name": "Horror",
         "rawType": "int64",
         "type": "integer"
        },
        {
         "name": "Musical",
         "rawType": "int64",
         "type": "integer"
        },
        {
         "name": "Mystery",
         "rawType": "int64",
         "type": "integer"
        },
        {
         "name": "Romance",
         "rawType": "int64",
         "type": "integer"
        },
        {
         "name": "Sci-Fi",
         "rawType": "int64",
         "type": "integer"
        },
        {
         "name": "Thriller",
         "rawType": "int64",
         "type": "integer"
        },
        {
         "name": "War",
         "rawType": "int64",
         "type": "integer"
        },
        {
         "name": "Western",
         "rawType": "int64",
         "type": "integer"
        }
       ],
       "conversionMethod": "pd.DataFrame",
       "ref": "2e69ff30-a41a-46ca-9503-3d1b65b07afb",
       "rows": [
        [
         "0",
         "196",
         "242",
         "3",
         "881250949",
         "39",
         "3.6153846153846154",
         "117",
         "3.9914529914529915",
         "0",
         "0",
         "0",
         "0",
         "0",
         "1",
         "0",
         "0",
         "0",
         "0",
         "0",
         "0",
         "0",
         "0",
         "0",
         "0",
         "0",
         "0",
         "0"
        ],
        [
         "1",
         "186",
         "302",
         "3",
         "891717742",
         "92",
         "3.4130434782608696",
         "297",
         "4.161616161616162",
         "0",
         "0",
         "0",
         "0",
         "0",
         "0",
         "1",
         "0",
         "0",
         "0",
         "1",
         "0",
         "0",
         "1",
         "0",
         "0",
         "1",
         "0",
         "0"
        ],
        [
         "2",
         "22",
         "377",
         "1",
         "878887116",
         "128",
         "3.3515625",
         "13",
         "2.1538461538461537",
         "0",
         "0",
         "0",
         "0",
         "1",
         "1",
         "0",
         "0",
         "0",
         "0",
         "0",
         "0",
         "0",
         "0",
         "0",
         "0",
         "0",
         "0",
         "0"
        ],
        [
         "3",
         "244",
         "51",
         "2",
         "880606923",
         "238",
         "3.6512605042016806",
         "81",
         "3.45679012345679",
         "0",
         "0",
         "0",
         "0",
         "0",
         "0",
         "0",
         "0",
         "1",
         "0",
         "0",
         "0",
         "0",
         "0",
         "1",
         "0",
         "0",
         "1",
         "1"
        ],
        [
         "4",
         "166",
         "346",
         "1",
         "886397596",
         "20",
         "3.55",
         "126",
         "3.642857142857143",
         "0",
         "0",
         "0",
         "0",
         "0",
         "0",
         "1",
         "0",
         "1",
         "0",
         "0",
         "0",
         "0",
         "0",
         "0",
         "0",
         "0",
         "0",
         "0"
        ]
       ],
       "shape": {
        "columns": 27,
        "rows": 5
       }
      },
      "text/html": [
       "<div>\n",
       "<style scoped>\n",
       "    .dataframe tbody tr th:only-of-type {\n",
       "        vertical-align: middle;\n",
       "    }\n",
       "\n",
       "    .dataframe tbody tr th {\n",
       "        vertical-align: top;\n",
       "    }\n",
       "\n",
       "    .dataframe thead th {\n",
       "        text-align: right;\n",
       "    }\n",
       "</style>\n",
       "<table border=\"1\" class=\"dataframe\">\n",
       "  <thead>\n",
       "    <tr style=\"text-align: right;\">\n",
       "      <th></th>\n",
       "      <th>user_id</th>\n",
       "      <th>movie_id</th>\n",
       "      <th>rating</th>\n",
       "      <th>timestamp</th>\n",
       "      <th>user_num_ratings</th>\n",
       "      <th>user_avg_rating</th>\n",
       "      <th>movie_num_ratings</th>\n",
       "      <th>movie_avg_rating</th>\n",
       "      <th>unknown</th>\n",
       "      <th>Action</th>\n",
       "      <th>...</th>\n",
       "      <th>Fantasy</th>\n",
       "      <th>Film-Noir</th>\n",
       "      <th>Horror</th>\n",
       "      <th>Musical</th>\n",
       "      <th>Mystery</th>\n",
       "      <th>Romance</th>\n",
       "      <th>Sci-Fi</th>\n",
       "      <th>Thriller</th>\n",
       "      <th>War</th>\n",
       "      <th>Western</th>\n",
       "    </tr>\n",
       "  </thead>\n",
       "  <tbody>\n",
       "    <tr>\n",
       "      <th>0</th>\n",
       "      <td>196</td>\n",
       "      <td>242</td>\n",
       "      <td>3</td>\n",
       "      <td>881250949</td>\n",
       "      <td>39</td>\n",
       "      <td>3.615385</td>\n",
       "      <td>117</td>\n",
       "      <td>3.991453</td>\n",
       "      <td>0</td>\n",
       "      <td>0</td>\n",
       "      <td>...</td>\n",
       "      <td>0</td>\n",
       "      <td>0</td>\n",
       "      <td>0</td>\n",
       "      <td>0</td>\n",
       "      <td>0</td>\n",
       "      <td>0</td>\n",
       "      <td>0</td>\n",
       "      <td>0</td>\n",
       "      <td>0</td>\n",
       "      <td>0</td>\n",
       "    </tr>\n",
       "    <tr>\n",
       "      <th>1</th>\n",
       "      <td>186</td>\n",
       "      <td>302</td>\n",
       "      <td>3</td>\n",
       "      <td>891717742</td>\n",
       "      <td>92</td>\n",
       "      <td>3.413043</td>\n",
       "      <td>297</td>\n",
       "      <td>4.161616</td>\n",
       "      <td>0</td>\n",
       "      <td>0</td>\n",
       "      <td>...</td>\n",
       "      <td>0</td>\n",
       "      <td>1</td>\n",
       "      <td>0</td>\n",
       "      <td>0</td>\n",
       "      <td>1</td>\n",
       "      <td>0</td>\n",
       "      <td>0</td>\n",
       "      <td>1</td>\n",
       "      <td>0</td>\n",
       "      <td>0</td>\n",
       "    </tr>\n",
       "    <tr>\n",
       "      <th>2</th>\n",
       "      <td>22</td>\n",
       "      <td>377</td>\n",
       "      <td>1</td>\n",
       "      <td>878887116</td>\n",
       "      <td>128</td>\n",
       "      <td>3.351562</td>\n",
       "      <td>13</td>\n",
       "      <td>2.153846</td>\n",
       "      <td>0</td>\n",
       "      <td>0</td>\n",
       "      <td>...</td>\n",
       "      <td>0</td>\n",
       "      <td>0</td>\n",
       "      <td>0</td>\n",
       "      <td>0</td>\n",
       "      <td>0</td>\n",
       "      <td>0</td>\n",
       "      <td>0</td>\n",
       "      <td>0</td>\n",
       "      <td>0</td>\n",
       "      <td>0</td>\n",
       "    </tr>\n",
       "    <tr>\n",
       "      <th>3</th>\n",
       "      <td>244</td>\n",
       "      <td>51</td>\n",
       "      <td>2</td>\n",
       "      <td>880606923</td>\n",
       "      <td>238</td>\n",
       "      <td>3.651261</td>\n",
       "      <td>81</td>\n",
       "      <td>3.456790</td>\n",
       "      <td>0</td>\n",
       "      <td>0</td>\n",
       "      <td>...</td>\n",
       "      <td>0</td>\n",
       "      <td>0</td>\n",
       "      <td>0</td>\n",
       "      <td>0</td>\n",
       "      <td>0</td>\n",
       "      <td>1</td>\n",
       "      <td>0</td>\n",
       "      <td>0</td>\n",
       "      <td>1</td>\n",
       "      <td>1</td>\n",
       "    </tr>\n",
       "    <tr>\n",
       "      <th>4</th>\n",
       "      <td>166</td>\n",
       "      <td>346</td>\n",
       "      <td>1</td>\n",
       "      <td>886397596</td>\n",
       "      <td>20</td>\n",
       "      <td>3.550000</td>\n",
       "      <td>126</td>\n",
       "      <td>3.642857</td>\n",
       "      <td>0</td>\n",
       "      <td>0</td>\n",
       "      <td>...</td>\n",
       "      <td>0</td>\n",
       "      <td>0</td>\n",
       "      <td>0</td>\n",
       "      <td>0</td>\n",
       "      <td>0</td>\n",
       "      <td>0</td>\n",
       "      <td>0</td>\n",
       "      <td>0</td>\n",
       "      <td>0</td>\n",
       "      <td>0</td>\n",
       "    </tr>\n",
       "  </tbody>\n",
       "</table>\n",
       "<p>5 rows × 27 columns</p>\n",
       "</div>"
      ],
      "text/plain": [
       "   user_id  movie_id  rating  timestamp  user_num_ratings  user_avg_rating  \\\n",
       "0      196       242       3  881250949                39         3.615385   \n",
       "1      186       302       3  891717742                92         3.413043   \n",
       "2       22       377       1  878887116               128         3.351562   \n",
       "3      244        51       2  880606923               238         3.651261   \n",
       "4      166       346       1  886397596                20         3.550000   \n",
       "\n",
       "   movie_num_ratings  movie_avg_rating  unknown  Action  ...  Fantasy  \\\n",
       "0                117          3.991453        0       0  ...        0   \n",
       "1                297          4.161616        0       0  ...        0   \n",
       "2                 13          2.153846        0       0  ...        0   \n",
       "3                 81          3.456790        0       0  ...        0   \n",
       "4                126          3.642857        0       0  ...        0   \n",
       "\n",
       "   Film-Noir  Horror  Musical  Mystery  Romance  Sci-Fi  Thriller  War  \\\n",
       "0          0       0        0        0        0       0         0    0   \n",
       "1          1       0        0        1        0       0         1    0   \n",
       "2          0       0        0        0        0       0         0    0   \n",
       "3          0       0        0        0        1       0         0    1   \n",
       "4          0       0        0        0        0       0         0    0   \n",
       "\n",
       "   Western  \n",
       "0        0  \n",
       "1        0  \n",
       "2        0  \n",
       "3        1  \n",
       "4        0  \n",
       "\n",
       "[5 rows x 27 columns]"
      ]
     },
     "execution_count": 24,
     "metadata": {},
     "output_type": "execute_result"
    }
   ],
   "source": [
    "# Merge everything into ratings\n",
    "merged = ratings.copy()\n",
    "merged = merged.merge(user_features, on='user_id', how='left')\n",
    "merged = merged.merge(movie_features.drop(columns=['title']), on='movie_id', how='left')\n",
    "merged = merged.merge(movies[['movie_id'] + list(genre_columns)], on='movie_id', how='left')\n",
    "\n",
    "merged.head()\n"
   ]
  },
  {
   "cell_type": "code",
   "execution_count": 25,
   "metadata": {},
   "outputs": [],
   "source": [
    "merged.to_csv(\"../data/processed/ratings_with_features.csv\", index=False)\n"
   ]
  },
  {
   "cell_type": "markdown",
   "metadata": {},
   "source": [
    "### Collaborative Filtering with surprise"
   ]
  },
  {
   "cell_type": "code",
   "execution_count": 26,
   "metadata": {},
   "outputs": [
    {
     "name": "stdout",
     "output_type": "stream",
     "text": [
      "Requirement already satisfied: numpy==1.24.4 in /Users/marcelomartinez/GitHub/mlip-project/venv/lib/python3.9/site-packages (1.24.4)\n",
      "\u001b[33mWARNING: You are using pip version 21.2.4; however, version 25.0.1 is available.\n",
      "You should consider upgrading via the '/Users/marcelomartinez/GitHub/mlip-project/venv/bin/python -m pip install --upgrade pip' command.\u001b[0m\n",
      "Note: you may need to restart the kernel to use updated packages.\n",
      "Requirement already satisfied: scikit-surprise in /Users/marcelomartinez/GitHub/mlip-project/venv/lib/python3.9/site-packages (1.1.4)\n",
      "Requirement already satisfied: numpy>=1.19.5 in /Users/marcelomartinez/GitHub/mlip-project/venv/lib/python3.9/site-packages (from scikit-surprise) (1.24.4)\n",
      "Requirement already satisfied: scipy>=1.6.0 in /Users/marcelomartinez/GitHub/mlip-project/venv/lib/python3.9/site-packages (from scikit-surprise) (1.13.1)\n",
      "Requirement already satisfied: joblib>=1.2.0 in /Users/marcelomartinez/GitHub/mlip-project/venv/lib/python3.9/site-packages (from scikit-surprise) (1.4.2)\n",
      "\u001b[33mWARNING: You are using pip version 21.2.4; however, version 25.0.1 is available.\n",
      "You should consider upgrading via the '/Users/marcelomartinez/GitHub/mlip-project/venv/bin/python -m pip install --upgrade pip' command.\u001b[0m\n",
      "Note: you may need to restart the kernel to use updated packages.\n"
     ]
    }
   ],
   "source": [
    "%pip install numpy==1.24.4\n",
    "%pip install scikit-surprise"
   ]
  },
  {
   "cell_type": "code",
   "execution_count": 27,
   "metadata": {},
   "outputs": [],
   "source": [
    "from surprise import Dataset, Reader, SVD\n",
    "from surprise.model_selection import cross_validate, train_test_split\n",
    "from surprise import accuracy\n",
    "\n",
    "# Prepare the dataset: Surprise expects specific format\n",
    "reader = Reader(rating_scale=(1, 5))\n",
    "data = Dataset.load_from_df(ratings[[\"user_id\", \"movie_id\", \"rating\"]], reader)\n",
    "\n",
    "# Split into train and test sets\n",
    "trainset, testset = train_test_split(data, test_size=0.2, random_state=42)\n"
   ]
  },
  {
   "cell_type": "code",
   "execution_count": 34,
   "metadata": {},
   "outputs": [
    {
     "name": "stdout",
     "output_type": "stream",
     "text": [
      "RMSE: 0.9388\n",
      "MAE:  0.7404\n"
     ]
    }
   ],
   "source": [
    "# Use SVD (Matrix Factorization)\n",
    "model = SVD()\n",
    "\n",
    "# Train on the training set\n",
    "model.fit(trainset)\n",
    "\n",
    "# Predict on the test set\n",
    "predictions = model.test(testset)\n",
    "\n",
    "# Evaluate the model\n",
    "rmse = accuracy.rmse(predictions)\n",
    "mae = accuracy.mae(predictions)\n"
   ]
  },
  {
   "cell_type": "code",
   "execution_count": 44,
   "metadata": {},
   "outputs": [],
   "source": [
    "import os\n",
    "import pickle\n",
    "os.makedirs(\"../models\", exist_ok=True)\n",
    "\n",
    "with open(\"../models/svd_model.pkl\", \"wb\") as f:\n",
    "    pickle.dump(model, f)\n"
   ]
  },
  {
   "cell_type": "code",
   "execution_count": 32,
   "metadata": {},
   "outputs": [
    {
     "name": "stdout",
     "output_type": "stream",
     "text": [
      "Close Shave, A (1995) (predicted rating: 5.00)\n",
      "Titanic (1997) (predicted rating: 4.90)\n",
      "Casablanca (1942) (predicted rating: 4.84)\n",
      "Raiders of the Lost Ark (1981) (predicted rating: 4.75)\n",
      "Wrong Trousers, The (1993) (predicted rating: 4.74)\n",
      "Empire Strikes Back, The (1980) (predicted rating: 4.73)\n",
      "Schindler's List (1993) (predicted rating: 4.72)\n",
      "Amadeus (1984) (predicted rating: 4.72)\n",
      "African Queen, The (1951) (predicted rating: 4.71)\n",
      "Citizen Kane (1941) (predicted rating: 4.70)\n"
     ]
    }
   ],
   "source": [
    "# Get a list of all movie IDs\n",
    "all_movie_ids = ratings['movie_id'].unique()\n",
    "\n",
    "# Pick a user\n",
    "user_id = 45\n",
    "\n",
    "# Find which movies the user hasn't rated yet\n",
    "rated_movies = ratings[ratings['user_id'] == user_id]['movie_id']\n",
    "unrated_movies = [movie for movie in all_movie_ids if movie not in rated_movies.values]\n",
    "\n",
    "# Predict ratings for the unrated movies\n",
    "predictions = [model.predict(user_id, movie_id) for movie_id in unrated_movies]\n",
    "\n",
    "# Sort by estimated rating\n",
    "top_recommendations = sorted(predictions, key=lambda x: x.est, reverse=True)[:10]\n",
    "\n",
    "# Display titles\n",
    "for pred in top_recommendations:\n",
    "    movie_title = movies[movies['movie_id'] == pred.iid]['title'].values[0]\n",
    "    print(f\"{movie_title} (predicted rating: {pred.est:.2f})\")\n"
   ]
  },
  {
   "cell_type": "markdown",
   "metadata": {},
   "source": [
    "### Content-Based Filtering Model"
   ]
  },
  {
   "cell_type": "code",
   "execution_count": 35,
   "metadata": {},
   "outputs": [
    {
     "data": {
      "application/vnd.microsoft.datawrangler.viewer.v0+json": {
       "columns": [
        {
         "name": "movie_id",
         "rawType": "int64",
         "type": "integer"
        },
        {
         "name": "unknown",
         "rawType": "int64",
         "type": "integer"
        },
        {
         "name": "Action",
         "rawType": "int64",
         "type": "integer"
        },
        {
         "name": "Adventure",
         "rawType": "int64",
         "type": "integer"
        },
        {
         "name": "Animation",
         "rawType": "int64",
         "type": "integer"
        },
        {
         "name": "Children's",
         "rawType": "int64",
         "type": "integer"
        },
        {
         "name": "Comedy",
         "rawType": "int64",
         "type": "integer"
        },
        {
         "name": "Crime",
         "rawType": "int64",
         "type": "integer"
        },
        {
         "name": "Documentary",
         "rawType": "int64",
         "type": "integer"
        },
        {
         "name": "Drama",
         "rawType": "int64",
         "type": "integer"
        },
        {
         "name": "Fantasy",
         "rawType": "int64",
         "type": "integer"
        },
        {
         "name": "Film-Noir",
         "rawType": "int64",
         "type": "integer"
        },
        {
         "name": "Horror",
         "rawType": "int64",
         "type": "integer"
        },
        {
         "name": "Musical",
         "rawType": "int64",
         "type": "integer"
        },
        {
         "name": "Mystery",
         "rawType": "int64",
         "type": "integer"
        },
        {
         "name": "Romance",
         "rawType": "int64",
         "type": "integer"
        },
        {
         "name": "Sci-Fi",
         "rawType": "int64",
         "type": "integer"
        },
        {
         "name": "Thriller",
         "rawType": "int64",
         "type": "integer"
        },
        {
         "name": "War",
         "rawType": "int64",
         "type": "integer"
        },
        {
         "name": "Western",
         "rawType": "int64",
         "type": "integer"
        }
       ],
       "conversionMethod": "pd.DataFrame",
       "ref": "79f85f51-f539-4ae0-b979-1977000b87c6",
       "rows": [
        [
         "1",
         "0",
         "0",
         "0",
         "1",
         "1",
         "1",
         "0",
         "0",
         "0",
         "0",
         "0",
         "0",
         "0",
         "0",
         "0",
         "0",
         "0",
         "0",
         "0"
        ],
        [
         "2",
         "0",
         "1",
         "1",
         "0",
         "0",
         "0",
         "0",
         "0",
         "0",
         "0",
         "0",
         "0",
         "0",
         "0",
         "0",
         "0",
         "1",
         "0",
         "0"
        ],
        [
         "3",
         "0",
         "0",
         "0",
         "0",
         "0",
         "0",
         "0",
         "0",
         "0",
         "0",
         "0",
         "0",
         "0",
         "0",
         "0",
         "0",
         "1",
         "0",
         "0"
        ],
        [
         "4",
         "0",
         "1",
         "0",
         "0",
         "0",
         "1",
         "0",
         "0",
         "1",
         "0",
         "0",
         "0",
         "0",
         "0",
         "0",
         "0",
         "0",
         "0",
         "0"
        ],
        [
         "5",
         "0",
         "0",
         "0",
         "0",
         "0",
         "0",
         "1",
         "0",
         "1",
         "0",
         "0",
         "0",
         "0",
         "0",
         "0",
         "0",
         "1",
         "0",
         "0"
        ]
       ],
       "shape": {
        "columns": 19,
        "rows": 5
       }
      },
      "text/html": [
       "<div>\n",
       "<style scoped>\n",
       "    .dataframe tbody tr th:only-of-type {\n",
       "        vertical-align: middle;\n",
       "    }\n",
       "\n",
       "    .dataframe tbody tr th {\n",
       "        vertical-align: top;\n",
       "    }\n",
       "\n",
       "    .dataframe thead th {\n",
       "        text-align: right;\n",
       "    }\n",
       "</style>\n",
       "<table border=\"1\" class=\"dataframe\">\n",
       "  <thead>\n",
       "    <tr style=\"text-align: right;\">\n",
       "      <th></th>\n",
       "      <th>unknown</th>\n",
       "      <th>Action</th>\n",
       "      <th>Adventure</th>\n",
       "      <th>Animation</th>\n",
       "      <th>Children's</th>\n",
       "      <th>Comedy</th>\n",
       "      <th>Crime</th>\n",
       "      <th>Documentary</th>\n",
       "      <th>Drama</th>\n",
       "      <th>Fantasy</th>\n",
       "      <th>Film-Noir</th>\n",
       "      <th>Horror</th>\n",
       "      <th>Musical</th>\n",
       "      <th>Mystery</th>\n",
       "      <th>Romance</th>\n",
       "      <th>Sci-Fi</th>\n",
       "      <th>Thriller</th>\n",
       "      <th>War</th>\n",
       "      <th>Western</th>\n",
       "    </tr>\n",
       "    <tr>\n",
       "      <th>movie_id</th>\n",
       "      <th></th>\n",
       "      <th></th>\n",
       "      <th></th>\n",
       "      <th></th>\n",
       "      <th></th>\n",
       "      <th></th>\n",
       "      <th></th>\n",
       "      <th></th>\n",
       "      <th></th>\n",
       "      <th></th>\n",
       "      <th></th>\n",
       "      <th></th>\n",
       "      <th></th>\n",
       "      <th></th>\n",
       "      <th></th>\n",
       "      <th></th>\n",
       "      <th></th>\n",
       "      <th></th>\n",
       "      <th></th>\n",
       "    </tr>\n",
       "  </thead>\n",
       "  <tbody>\n",
       "    <tr>\n",
       "      <th>1</th>\n",
       "      <td>0</td>\n",
       "      <td>0</td>\n",
       "      <td>0</td>\n",
       "      <td>1</td>\n",
       "      <td>1</td>\n",
       "      <td>1</td>\n",
       "      <td>0</td>\n",
       "      <td>0</td>\n",
       "      <td>0</td>\n",
       "      <td>0</td>\n",
       "      <td>0</td>\n",
       "      <td>0</td>\n",
       "      <td>0</td>\n",
       "      <td>0</td>\n",
       "      <td>0</td>\n",
       "      <td>0</td>\n",
       "      <td>0</td>\n",
       "      <td>0</td>\n",
       "      <td>0</td>\n",
       "    </tr>\n",
       "    <tr>\n",
       "      <th>2</th>\n",
       "      <td>0</td>\n",
       "      <td>1</td>\n",
       "      <td>1</td>\n",
       "      <td>0</td>\n",
       "      <td>0</td>\n",
       "      <td>0</td>\n",
       "      <td>0</td>\n",
       "      <td>0</td>\n",
       "      <td>0</td>\n",
       "      <td>0</td>\n",
       "      <td>0</td>\n",
       "      <td>0</td>\n",
       "      <td>0</td>\n",
       "      <td>0</td>\n",
       "      <td>0</td>\n",
       "      <td>0</td>\n",
       "      <td>1</td>\n",
       "      <td>0</td>\n",
       "      <td>0</td>\n",
       "    </tr>\n",
       "    <tr>\n",
       "      <th>3</th>\n",
       "      <td>0</td>\n",
       "      <td>0</td>\n",
       "      <td>0</td>\n",
       "      <td>0</td>\n",
       "      <td>0</td>\n",
       "      <td>0</td>\n",
       "      <td>0</td>\n",
       "      <td>0</td>\n",
       "      <td>0</td>\n",
       "      <td>0</td>\n",
       "      <td>0</td>\n",
       "      <td>0</td>\n",
       "      <td>0</td>\n",
       "      <td>0</td>\n",
       "      <td>0</td>\n",
       "      <td>0</td>\n",
       "      <td>1</td>\n",
       "      <td>0</td>\n",
       "      <td>0</td>\n",
       "    </tr>\n",
       "    <tr>\n",
       "      <th>4</th>\n",
       "      <td>0</td>\n",
       "      <td>1</td>\n",
       "      <td>0</td>\n",
       "      <td>0</td>\n",
       "      <td>0</td>\n",
       "      <td>1</td>\n",
       "      <td>0</td>\n",
       "      <td>0</td>\n",
       "      <td>1</td>\n",
       "      <td>0</td>\n",
       "      <td>0</td>\n",
       "      <td>0</td>\n",
       "      <td>0</td>\n",
       "      <td>0</td>\n",
       "      <td>0</td>\n",
       "      <td>0</td>\n",
       "      <td>0</td>\n",
       "      <td>0</td>\n",
       "      <td>0</td>\n",
       "    </tr>\n",
       "    <tr>\n",
       "      <th>5</th>\n",
       "      <td>0</td>\n",
       "      <td>0</td>\n",
       "      <td>0</td>\n",
       "      <td>0</td>\n",
       "      <td>0</td>\n",
       "      <td>0</td>\n",
       "      <td>1</td>\n",
       "      <td>0</td>\n",
       "      <td>1</td>\n",
       "      <td>0</td>\n",
       "      <td>0</td>\n",
       "      <td>0</td>\n",
       "      <td>0</td>\n",
       "      <td>0</td>\n",
       "      <td>0</td>\n",
       "      <td>0</td>\n",
       "      <td>1</td>\n",
       "      <td>0</td>\n",
       "      <td>0</td>\n",
       "    </tr>\n",
       "  </tbody>\n",
       "</table>\n",
       "</div>"
      ],
      "text/plain": [
       "          unknown  Action  Adventure  Animation  Children's  Comedy  Crime  \\\n",
       "movie_id                                                                     \n",
       "1               0       0          0          1           1       1      0   \n",
       "2               0       1          1          0           0       0      0   \n",
       "3               0       0          0          0           0       0      0   \n",
       "4               0       1          0          0           0       1      0   \n",
       "5               0       0          0          0           0       0      1   \n",
       "\n",
       "          Documentary  Drama  Fantasy  Film-Noir  Horror  Musical  Mystery  \\\n",
       "movie_id                                                                     \n",
       "1                   0      0        0          0       0        0        0   \n",
       "2                   0      0        0          0       0        0        0   \n",
       "3                   0      0        0          0       0        0        0   \n",
       "4                   0      1        0          0       0        0        0   \n",
       "5                   0      1        0          0       0        0        0   \n",
       "\n",
       "          Romance  Sci-Fi  Thriller  War  Western  \n",
       "movie_id                                           \n",
       "1               0       0         0    0        0  \n",
       "2               0       0         1    0        0  \n",
       "3               0       0         1    0        0  \n",
       "4               0       0         0    0        0  \n",
       "5               0       0         1    0        0  "
      ]
     },
     "execution_count": 35,
     "metadata": {},
     "output_type": "execute_result"
    }
   ],
   "source": [
    "# We already have one-hot genre columns in movies\n",
    "genre_columns = movies.columns[5:]\n",
    "\n",
    "# Create the content feature matrix\n",
    "movie_features = movies.set_index('movie_id')[genre_columns]\n",
    "\n",
    "movie_features.head()\n"
   ]
  },
  {
   "cell_type": "code",
   "execution_count": 36,
   "metadata": {},
   "outputs": [
    {
     "name": "stdout",
     "output_type": "stream",
     "text": [
      "User has rated these movies highly: [ 423   96  274  588 1028   98  685  195  185   69  684  603 1041  121\n",
      "  143   48  999  102  210  785  405  845  781  380  357  204  404  142\n",
      "  692   99 1051  222  925  568  211   12   82   88   28  939  418 1044\n",
      "  736  183   79  234  280  732  196  172  194  496  215  742  566   63\n",
      "  118  479  216   95  230   77  866    1  371 1047  427   15  469  229\n",
      "  173   83  385  228   54  756  720  934   58  125  161  202  471  237\n",
      "  501  402  419   66  203  135   64  468  239  523  227  294  369  151\n",
      "  318   50   71  941  969  132  181  174   73    2  755  282  136  735\n",
      "  411   87  591]\n"
     ]
    }
   ],
   "source": [
    "def get_user_top_movies(user_id, min_rating=4):\n",
    "    top_movies = ratings[(ratings['user_id'] == user_id) & (ratings['rating'] >= min_rating)]\n",
    "    return top_movies['movie_id'].values\n",
    "\n",
    "user_id = 42\n",
    "user_top_movies = get_user_top_movies(user_id)\n",
    "print(\"User has rated these movies highly:\", user_top_movies)\n"
   ]
  },
  {
   "cell_type": "code",
   "execution_count": 37,
   "metadata": {},
   "outputs": [],
   "source": [
    "from sklearn.metrics.pairwise import cosine_similarity\n",
    "import numpy as np\n",
    "\n",
    "# Get genre vectors of the movies the user liked\n",
    "user_profile = movie_features.loc[user_top_movies].mean(axis=0).values.reshape(1, -1)\n",
    "\n",
    "# Compute cosine similarity to all movies\n",
    "similarities = cosine_similarity(user_profile, movie_features.values)[0]\n",
    "\n",
    "# Create DataFrame with similarity scores\n",
    "movie_scores = pd.DataFrame({\n",
    "    'movie_id': movie_features.index,\n",
    "    'similarity': similarities\n",
    "})\n"
   ]
  },
  {
   "cell_type": "code",
   "execution_count": 42,
   "metadata": {},
   "outputs": [
    {
     "data": {
      "application/vnd.microsoft.datawrangler.viewer.v0+json": {
       "columns": [
        {
         "name": "index",
         "rawType": "int64",
         "type": "integer"
        },
        {
         "name": "title",
         "rawType": "object",
         "type": "string"
        },
        {
         "name": "similarity",
         "rawType": "float64",
         "type": "float"
        }
       ],
       "conversionMethod": "pd.DataFrame",
       "ref": "4e9506c9-9511-4fb1-8a78-b571f42ac05c",
       "rows": [
        [
         "0",
         "Faster Pussycat! Kill! Kill! (1965)",
         "0.750778449159893"
        ],
        [
         "1",
         "Get Shorty (1995)",
         "0.750778449159893"
        ],
        [
         "2",
         "Manhattan (1979)",
         "0.730114822118795"
        ],
        [
         "3",
         "I Like It Like That (1994)",
         "0.730114822118795"
        ],
        [
         "4",
         "Wings of Desire (1987)",
         "0.730114822118795"
        ],
        [
         "5",
         "Twelfth Night (1996)",
         "0.730114822118795"
        ],
        [
         "6",
         "What Happened Was... (1994)",
         "0.730114822118795"
        ],
        [
         "7",
         "Something to Talk About (1995)",
         "0.730114822118795"
        ],
        [
         "8",
         "Corrina, Corrina (1994)",
         "0.730114822118795"
        ],
        [
         "9",
         "Brassed Off (1996)",
         "0.730114822118795"
        ]
       ],
       "shape": {
        "columns": 2,
        "rows": 10
       }
      },
      "text/html": [
       "<div>\n",
       "<style scoped>\n",
       "    .dataframe tbody tr th:only-of-type {\n",
       "        vertical-align: middle;\n",
       "    }\n",
       "\n",
       "    .dataframe tbody tr th {\n",
       "        vertical-align: top;\n",
       "    }\n",
       "\n",
       "    .dataframe thead th {\n",
       "        text-align: right;\n",
       "    }\n",
       "</style>\n",
       "<table border=\"1\" class=\"dataframe\">\n",
       "  <thead>\n",
       "    <tr style=\"text-align: right;\">\n",
       "      <th></th>\n",
       "      <th>title</th>\n",
       "      <th>similarity</th>\n",
       "    </tr>\n",
       "  </thead>\n",
       "  <tbody>\n",
       "    <tr>\n",
       "      <th>0</th>\n",
       "      <td>Faster Pussycat! Kill! Kill! (1965)</td>\n",
       "      <td>0.750778</td>\n",
       "    </tr>\n",
       "    <tr>\n",
       "      <th>1</th>\n",
       "      <td>Get Shorty (1995)</td>\n",
       "      <td>0.750778</td>\n",
       "    </tr>\n",
       "    <tr>\n",
       "      <th>2</th>\n",
       "      <td>Manhattan (1979)</td>\n",
       "      <td>0.730115</td>\n",
       "    </tr>\n",
       "    <tr>\n",
       "      <th>3</th>\n",
       "      <td>I Like It Like That (1994)</td>\n",
       "      <td>0.730115</td>\n",
       "    </tr>\n",
       "    <tr>\n",
       "      <th>4</th>\n",
       "      <td>Wings of Desire (1987)</td>\n",
       "      <td>0.730115</td>\n",
       "    </tr>\n",
       "    <tr>\n",
       "      <th>5</th>\n",
       "      <td>Twelfth Night (1996)</td>\n",
       "      <td>0.730115</td>\n",
       "    </tr>\n",
       "    <tr>\n",
       "      <th>6</th>\n",
       "      <td>What Happened Was... (1994)</td>\n",
       "      <td>0.730115</td>\n",
       "    </tr>\n",
       "    <tr>\n",
       "      <th>7</th>\n",
       "      <td>Something to Talk About (1995)</td>\n",
       "      <td>0.730115</td>\n",
       "    </tr>\n",
       "    <tr>\n",
       "      <th>8</th>\n",
       "      <td>Corrina, Corrina (1994)</td>\n",
       "      <td>0.730115</td>\n",
       "    </tr>\n",
       "    <tr>\n",
       "      <th>9</th>\n",
       "      <td>Brassed Off (1996)</td>\n",
       "      <td>0.730115</td>\n",
       "    </tr>\n",
       "  </tbody>\n",
       "</table>\n",
       "</div>"
      ],
      "text/plain": [
       "                                 title  similarity\n",
       "0  Faster Pussycat! Kill! Kill! (1965)    0.750778\n",
       "1                    Get Shorty (1995)    0.750778\n",
       "2                     Manhattan (1979)    0.730115\n",
       "3           I Like It Like That (1994)    0.730115\n",
       "4               Wings of Desire (1987)    0.730115\n",
       "5                 Twelfth Night (1996)    0.730115\n",
       "6          What Happened Was... (1994)    0.730115\n",
       "7       Something to Talk About (1995)    0.730115\n",
       "8              Corrina, Corrina (1994)    0.730115\n",
       "9                   Brassed Off (1996)    0.730115"
      ]
     },
     "execution_count": 42,
     "metadata": {},
     "output_type": "execute_result"
    }
   ],
   "source": [
    "# Remove movies the user has already rated\n",
    "seen_movies = ratings[ratings['user_id'] == user_id]['movie_id']\n",
    "recommendations = movie_scores[~movie_scores['movie_id'].isin(seen_movies)]\n",
    "\n",
    "# Sort by similarity score\n",
    "recommendations = recommendations.sort_values(by='similarity', ascending=False).head(10)\n",
    "\n",
    "# Join with movie titles\n",
    "top_recommendations = pd.merge(recommendations, movies[['movie_id', 'title']], on='movie_id')\n",
    "\n",
    "top_recommendations[['title', 'similarity']]\n"
   ]
  },
  {
   "cell_type": "markdown",
   "metadata": {},
   "source": [
    "### Comparison of Collaborative Filtering vs. Content-Based Filtering\n",
    "\n",
    "| Feature                       | Collaborative Filtering (SVD)      | Content-Based Filtering               |\n",
    "|------------------------------|------------------------------------|---------------------------------------|\n",
    "| Based on                     | User–item rating patterns          | Movie content (genres)                |\n",
    "| Uses other users' preferences| Yes                                | No                                    |\n",
    "| Needs movie metadata         | No                                 | Yes                                   |\n",
    "| Handles cold-start users     | No                                 | Yes (if user rated a few movies)      |\n",
    "| Predicts ratings             | Yes (e.g., 4.3 stars)              | No (recommends based on similarity)   |\n",
    "| Learns hidden preferences    | Yes                                | No                                    |\n",
    "| Easy to interpret            | No                                 | Yes (based on genres)                 |\n",
    "| Suitable for diverse tastes  | Yes                                | Limited to user’s past interests      |\n",
    "| Performance (on ML-100k)     | RMSE ≈ 0.936, MAE ≈ 0.738          | N/A                                   |\n"
   ]
  }
 ],
 "metadata": {
  "kernelspec": {
   "display_name": "venv",
   "language": "python",
   "name": "python3"
  },
  "language_info": {
   "codemirror_mode": {
    "name": "ipython",
    "version": 3
   },
   "file_extension": ".py",
   "mimetype": "text/x-python",
   "name": "python",
   "nbconvert_exporter": "python",
   "pygments_lexer": "ipython3",
   "version": "3.9.6"
  }
 },
 "nbformat": 4,
 "nbformat_minor": 2
}
